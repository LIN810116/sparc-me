{
 "cells": [
  {
   "cell_type": "markdown",
   "metadata": {},
   "source": [
    "# Tutorial 1 - Downloading and exploring SPARC datasets\n",
    "\n",
    "In this tutorial, you will get these ideas on how to use `sparc_me` to interact with `SPARC datasets` from `Pennsive API`. To download SDS dataset (such as human whole-body computational scaffold with embedded organs), and using UBERON ontology term to query data.\n",
    "\n",
    "Before you run the examples, you need to make sure these dependencies you've already installed.\n",
    "\n",
    "```bash\n",
    "pip install -r requirements\n",
    "```\n",
    "- the python version is v3.8.6"
   ]
  },
  {
   "cell_type": "markdown",
   "metadata": {},
   "source": [
    "## Download an existing curated SDS dataset\n",
    "### Access pennsieve metadata"
   ]
  },
  {
   "cell_type": "code",
   "execution_count": null,
   "metadata": {},
   "outputs": [],
   "source": [
    "from sparc_me import Dataset_Api\n",
    "api_tools = Dataset_Api()"
   ]
  },
  {
   "cell_type": "code",
   "execution_count": null,
   "metadata": {},
   "outputs": [],
   "source": [
    "'''\n",
    "Get all datasets from Pennsive API.\n",
    "You will get a list of all SPARC datasets.\n",
    "'''\n",
    "datasets = api_tools.get_all_datasets_latest_version_pensieve()\n",
    "\n",
    "'''\n",
    "Get specific dataset with id\n",
    "'''\n",
    "\n",
    "dataset = api_tools.get_dataset_latest_version_pensieve(156)\n",
    "\n",
    "'''\n",
    "Get dataset latest version number\n",
    ":parameter: datasetId number|string\n",
    "'''\n",
    "latest_version_num = api_tools.get_dataset_latest_version_number(156)\n"
   ]
  },
  {
   "cell_type": "markdown",
   "metadata": {},
   "source": [
    "### Retrieve and store protocol from protocol.io in json format"
   ]
  },
  {
   "cell_type": "code",
   "execution_count": null,
   "metadata": {},
   "outputs": [],
   "source": [
    "# We can through this function to find out protocol doi\n",
    "# You need to provide a dataset id\n",
    "doi = api_tools.get_dataset_protocolsio_link(273)"
   ]
  },
  {
   "cell_type": "code",
   "execution_count": null,
   "metadata": {},
   "outputs": [],
   "source": [
    "'''\n",
    "Get a dataset entire information, and store the information locally with json format.\n",
    "This function will query the protocol doi from pennsieve dataset, then connect to protocol.\n",
    ":parameter: datasetId number|string\n",
    ":parameter: savepath string - provide a path to store the data\n",
    "'''\n",
    "api_tools.get_protocolsio_text(273,\"./datasets\")"
   ]
  },
  {
   "cell_type": "markdown",
   "metadata": {},
   "source": [
    "### Download files from SDS dataset (folders, xlsx files etc)\n",
    "#### Download dataset_description.xlsx"
   ]
  },
  {
   "cell_type": "code",
   "execution_count": null,
   "metadata": {},
   "outputs": [],
   "source": [
    "'''\n",
    "Get an xlsx file from pennsieve API, then store in given path.\n",
    ":parameter: datasetId number|string\n",
    ":parameter: target file path from SPARC datasets\n",
    ":parameter: save_path string - provide a path to store the data\n",
    "'''\n",
    "api_tools.get_xlsx_csv_file_pennsieve(156, \"files/dataset_description.xlsx\", \"./datasets\")"
   ]
  },
  {
   "cell_type": "markdown",
   "metadata": {},
   "source": [
    "#### Download humanWholeBody_annotations.csv"
   ]
  },
  {
   "cell_type": "code",
   "execution_count": null,
   "metadata": {},
   "outputs": [],
   "source": [
    "api_tools.get_xlsx_csv_file_pennsieve(156, \"files/docs/humanWholeBody_annotations.csv\", \"./datasets\")"
   ]
  },
  {
   "cell_type": "markdown",
   "metadata": {},
   "source": [
    "## Query UBERON ontology term\n",
    "\n",
    "- To do this, we use `ontquery` package, it provides very nice API for us to query term in SciCrunch.\n",
    "- To get the API-key please see here: https://github.com/tgbugs/ontquery#scicrunch-api-key\n",
    "- To config API-key to local environment variables:\n",
    "    - create a .env in project root folder\n",
    "    - pip install decouple\n",
    "     ```python\n",
    "     from decouple import config\n",
    "     SCICRUNCH_API_KEY = config('SCICRUNCH_API_KEY')\n",
    "     ```"
   ]
  },
  {
   "cell_type": "code",
   "execution_count": null,
   "metadata": {},
   "outputs": [],
   "source": [
    "uberons = api_tools.get_UBERONs_From_Dataset(156, \"files/docs/humanWholeBody_annotations.csv\")\n",
    "# get first uberons\n",
    "uberons[0]"
   ]
  },
  {
   "cell_type": "markdown",
   "metadata": {},
   "source": [
    "- Query UBERON code from SciCrunch (pending update from ontquery [issue #34](https://github.com/tgbugs/ontquery/issues/34))"
   ]
  },
  {
   "cell_type": "code",
   "execution_count": null,
   "metadata": {},
   "outputs": [],
   "source": [
    "# from ontquery import OntQuery, SciGraphRemote, OntTerm, OntCuries\n",
    "# from ontquery.plugins.namespaces import CURIE_MAP\n",
    "# curies = OntCuries(CURIE_MAP)\n",
    "# query = OntQuery(SciGraphRemote())\n",
    "# OntTerm.query = query\n",
    "# query('UBERON:0000916')"
   ]
  },
  {
   "cell_type": "markdown",
   "metadata": {},
   "source": [
    "- also can query UBERON term from SPARC dataset"
   ]
  },
  {
   "cell_type": "code",
   "execution_count": null,
   "metadata": {},
   "outputs": [],
   "source": [
    "# query(uberons[0])"
   ]
  }
 ],
 "metadata": {
  "kernelspec": {
   "display_name": "Python 3",
   "language": "python",
   "name": "python3"
  },
  "language_info": {
   "codemirror_mode": {
    "name": "ipython",
    "version": 3
   },
   "file_extension": ".py",
   "mimetype": "text/x-python",
   "name": "python",
   "nbconvert_exporter": "python",
   "pygments_lexer": "ipython3",
   "version": "3.8.5"
  },
  "toc": {
   "base_numbering": 1,
   "nav_menu": {},
   "number_sections": true,
   "sideBar": true,
   "skip_h1_title": false,
   "title_cell": "Table of Contents",
   "title_sidebar": "Contents",
   "toc_cell": false,
   "toc_position": {},
   "toc_section_display": true,
   "toc_window_display": false
  }
 },
 "nbformat": 4,
 "nbformat_minor": 4
}
