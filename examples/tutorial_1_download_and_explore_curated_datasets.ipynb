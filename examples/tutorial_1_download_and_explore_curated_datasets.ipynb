{
 "cells": [
  {
   "cell_type": "markdown",
   "metadata": {},
   "source": [
    "# Tutorial 1 - Downloading and exploring SPARC datasets\n",
    "\n",
    "In this tutorial, you will get these ideas on how to use `sparc_me` to interact with `SPARC datasets` from `Pennsive API`. To download SDS dataset (such as human whole-body computational scaffold with embedded organs), and using UBERON ontology term to query data.\n",
    "\n",
    "Before you run the examples, you need to make sure the dependencies you've already installed.\n",
    "\n",
    "```bash\n",
    "pip install -r requirements\n",
    "pip install decouple\n",
    "```\n",
    "- the python version is v3.9.0\n",
    "\n",
    "Also will get some idea on connect protocol through the doi which is stored in SPARC dataset. \n",
    "\n",
    "Query UBERON ontology term (this code stays in example - does not need to be moved inside the sparc-me module).\n",
    "a. Hard code uberon_code = \"UBERON:0000916\" in example\n",
    "b. call an existing python library to access info for that UBERON term e.g. info = getTermInfo(UBERON_CODE)"
   ]
  },
  {
   "cell_type": "markdown",
   "metadata": {},
   "source": [
    "## Download an existing curated SDS dataset\n",
    "### Access pennsieve metadata"
   ]
  },
  {
   "cell_type": "code",
   "execution_count": 1,
   "metadata": {},
   "outputs": [],
   "source": [
    "from sparc_me import Dataset_Api\n",
    "api_tools = Dataset_Api()"
   ]
  },
  {
   "cell_type": "code",
   "execution_count": 2,
   "metadata": {},
   "outputs": [
    {
     "name": "stderr",
     "output_type": "stream",
     "text": [
      "/Users/linkungao/opt/anaconda3/lib/python3.8/site-packages/ipykernel/ipkernel.py:287: DeprecationWarning:`should_run_async` will not call `transform_cell` automatically in the future. Please pass the result to `transformed_cell` argument and any exception that happen during thetransform in `preprocessing_exc_tuple` in IPython 7.17 and above.\n"
     ]
    }
   ],
   "source": [
    "'''\n",
    "Get all datasets from Pennsive API.\n",
    "You will get a list of all SPARC datasets.\n",
    "'''\n",
    "datasets = api_tools.get_all_datasets_latest_version_pensieve()\n",
    "\n",
    "'''\n",
    "Get specific dataset with id\n",
    "'''\n",
    "\n",
    "dataset = api_tools.get_dataset_latest_version_pensieve(156)\n",
    "\n",
    "'''\n",
    "Get dataset latest version number\n",
    ":parameter: datasetId number|string\n",
    "'''\n",
    "latest_version_num = api_tools.get_dataset_latest_version_number(156)\n"
   ]
  },
  {
   "cell_type": "markdown",
   "metadata": {},
   "source": [
    "### Retrieve and store protocol from protocol.io in json format"
   ]
  },
  {
   "cell_type": "code",
   "execution_count": 3,
   "metadata": {},
   "outputs": [
    {
     "name": "stderr",
     "output_type": "stream",
     "text": [
      "/Users/linkungao/opt/anaconda3/lib/python3.8/site-packages/ipykernel/ipkernel.py:287: DeprecationWarning:`should_run_async` will not call `transform_cell` automatically in the future. Please pass the result to `transformed_cell` argument and any exception that happen during thetransform in `preprocessing_exc_tuple` in IPython 7.17 and above.\n"
     ]
    }
   ],
   "source": [
    "'''\n",
    "Get a dataset entire information, and store the information locally with json format.\n",
    "This function will query the protocol doi from pennsieve dataset, then connect to protocol.\n",
    ":parameter: datasetId number|string\n",
    ":parameter: savepath string - provide a path to store the data\n",
    "'''\n",
    "api_tools.get_protocolsio_text(273,\"./datasets\")"
   ]
  },
  {
   "cell_type": "markdown",
   "metadata": {},
   "source": [
    "### Download files from SDS dataset (folders, xlsx files etc)\n",
    "#### Download dataset_description.xlsx"
   ]
  },
  {
   "cell_type": "code",
   "execution_count": 4,
   "metadata": {},
   "outputs": [
    {
     "name": "stderr",
     "output_type": "stream",
     "text": [
      "/Users/linkungao/opt/anaconda3/lib/python3.8/site-packages/ipykernel/ipkernel.py:287: DeprecationWarning:`should_run_async` will not call `transform_cell` automatically in the future. Please pass the result to `transformed_cell` argument and any exception that happen during thetransform in `preprocessing_exc_tuple` in IPython 7.17 and above.\n"
     ]
    }
   ],
   "source": [
    "'''\n",
    "Get an xlsx file from pennsieve API, then store in given path.\n",
    ":parameter: datasetId number|string\n",
    ":parameter: target file path from SPARC datasets\n",
    ":parameter: save_path string - provide a path to store the data\n",
    "'''\n",
    "api_tools.get_xlsx_csv_file_pennsieve(156, \"files/dataset_description.xlsx\", \"./datasets\")"
   ]
  },
  {
   "cell_type": "markdown",
   "metadata": {},
   "source": [
    "#### Download humanWholeBody_annotations.csv"
   ]
  },
  {
   "cell_type": "code",
   "execution_count": 5,
   "metadata": {},
   "outputs": [
    {
     "name": "stderr",
     "output_type": "stream",
     "text": [
      "/Users/linkungao/opt/anaconda3/lib/python3.8/site-packages/ipykernel/ipkernel.py:287: DeprecationWarning:`should_run_async` will not call `transform_cell` automatically in the future. Please pass the result to `transformed_cell` argument and any exception that happen during thetransform in `preprocessing_exc_tuple` in IPython 7.17 and above.\n"
     ]
    }
   ],
   "source": [
    "api_tools.get_xlsx_csv_file_pennsieve(156, \"files/docs/humanWholeBody_annotations.csv\", \"./datasets\")"
   ]
  },
  {
   "cell_type": "markdown",
   "metadata": {},
   "source": [
    "## Query UBERON ontology term\n",
    "\n",
    "- To do this, we use `ontquery` package, it provides very nice API for us to query term in SciCrunch.\n",
    "- To get the API-key please see here: https://github.com/tgbugs/ontquery#scicrunch-api-key\n",
    "- To config API-key to local environment variables:\n",
    "    - create a .env in project root folder\n",
    "    - pip install decouple\n",
    "     ```python\n",
    "     from decouple import config\n",
    "     SCICRUNCH_API_KEY = config('SCICRUNCH_API_KEY')\n",
    "     ```"
   ]
  },
  {
   "cell_type": "code",
   "execution_count": 6,
   "metadata": {},
   "outputs": [
    {
     "name": "stderr",
     "output_type": "stream",
     "text": [
      "/Users/linkungao/opt/anaconda3/lib/python3.8/site-packages/ipykernel/ipkernel.py:287: DeprecationWarning:`should_run_async` will not call `transform_cell` automatically in the future. Please pass the result to `transformed_cell` argument and any exception that happen during thetransform in `preprocessing_exc_tuple` in IPython 7.17 and above.\n"
     ]
    },
    {
     "data": {
      "text/plain": [
       "0     UBERON:0000916\n",
       "1     UBERON:0000468\n",
       "4     UBERON:0001103\n",
       "5     UBERON:0000033\n",
       "6     UBERON:0000974\n",
       "8     UBERON:0001003\n",
       "9     UBERON:0002240\n",
       "10       ILX:0742178\n",
       "11              None\n",
       "12              None\n",
       "13              None\n",
       "14              None\n",
       "15       ILX:0774405\n",
       "16       ILX:0778144\n",
       "17      ILX:0778146 \n",
       "18       ILX:0778145\n",
       "19       ILX:0778147\n",
       "20    UBERON:0002098\n",
       "21       ILX:0778116\n",
       "22       ILX:0778117\n",
       "23       ILX:0778112\n",
       "24       ILX:0778113\n",
       "25       ILX:0778124\n",
       "26       ILX:0778118\n",
       "27       ILX:0778120\n",
       "28       ILX:0778122\n",
       "29       ILX:0778121\n",
       "30       ILX:0778126\n",
       "31       ILX:0778127\n",
       "32              None\n",
       "33              None\n",
       "34              None\n",
       "35              None\n",
       "Name: Term ID, dtype: object"
      ]
     },
     "execution_count": 6,
     "metadata": {},
     "output_type": "execute_result"
    }
   ],
   "source": [
    "api_tools.get_UBERONs_From_Dataset(156, \"files/docs/humanWholeBody_annotations.csv\")"
   ]
  },
  {
   "cell_type": "code",
   "execution_count": null,
   "metadata": {},
   "outputs": [],
   "source": []
  },
  {
   "cell_type": "code",
   "execution_count": null,
   "metadata": {},
   "outputs": [],
   "source": []
  }
 ],
 "metadata": {
  "kernelspec": {
   "display_name": "Python 3",
   "language": "python",
   "name": "python3"
  },
  "language_info": {
   "codemirror_mode": {
    "name": "ipython",
    "version": 3
   },
   "file_extension": ".py",
   "mimetype": "text/x-python",
   "name": "python",
   "nbconvert_exporter": "python",
   "pygments_lexer": "ipython3",
   "version": "3.8.5"
  },
  "toc": {
   "base_numbering": 1,
   "nav_menu": {},
   "number_sections": true,
   "sideBar": true,
   "skip_h1_title": false,
   "title_cell": "Table of Contents",
   "title_sidebar": "Contents",
   "toc_cell": false,
   "toc_position": {},
   "toc_section_display": true,
   "toc_window_display": false
  }
 },
 "nbformat": 4,
 "nbformat_minor": 4
}
