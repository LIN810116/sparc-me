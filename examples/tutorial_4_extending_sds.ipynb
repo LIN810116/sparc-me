{
 "cells": [
  {
   "cell_type": "markdown",
   "source": [
    "# Tutorial 4 - Extending metadata\n",
    "This tutorial will walk you through the steps of adding a field to an existing metadata\n",
    "and updating the metadata schema accordingly"
   ],
   "metadata": {
    "collapsed": false
   }
  },
  {
   "cell_type": "markdown",
   "source": [
    "## Setup"
   ],
   "metadata": {
    "collapsed": false,
    "pycharm": {
     "name": "#%% md\n"
    }
   }
  },
  {
   "cell_type": "code",
   "execution_count": 14,
   "outputs": [],
   "source": [
    "from pathlib import Path\n",
    "from sparc_me import Dataset, Schema\n",
    "save_dir = Path(\"./tmp\")"
   ],
   "metadata": {
    "collapsed": false,
    "pycharm": {
     "name": "#%%\n"
    }
   }
  },
  {
   "cell_type": "markdown",
   "source": [
    "## Create a SDS dataset from template"
   ],
   "metadata": {
    "collapsed": false,
    "pycharm": {
     "name": "#%% md\n"
    }
   }
  },
  {
   "cell_type": "code",
   "execution_count": 19,
   "outputs": [
    {
     "name": "stderr",
     "output_type": "stream",
     "text": [
      "Traceback (most recent call last):\n",
      "  File \"C:\\Program Files\\JetBrains\\PyCharm 2020.2.2\\plugins\\python\\helpers-pro\\jupyter_debug\\pydev_jupyter_utils.py\", line 69, in attach_to_debugger\n",
      "    debugger.prepare_to_run(enable_tracing_from_start=False)\n",
      "TypeError: prepare_to_run() got an unexpected keyword argument 'enable_tracing_from_start'\n",
      "Failed to connect to target debugger.\n"
     ]
    }
   ],
   "source": [
    "dataset = Dataset()\n",
    "dataset.load_from_template(version=\"1.2.3\")\n",
    "dataset.save(save_dir=save_dir.joinpath(\"template\"))"
   ],
   "metadata": {
    "collapsed": false,
    "pycharm": {
     "name": "#%%\n"
    }
   }
  },
  {
   "cell_type": "markdown",
   "source": [
    "## Save the default schema"
   ],
   "metadata": {
    "collapsed": false,
    "pycharm": {
     "name": "#%% md\n"
    }
   }
  },
  {
   "cell_type": "code",
   "execution_count": 16,
   "outputs": [],
   "source": [
    "default_schema = Schema.get_default_schema(version=\"1.2.3\", category=\"dataset_description\")\n",
    "schema = Schema()\n",
    "schema.set_schema(default_schema)\n",
    "schema.save(save_dir=save_dir.joinpath(\"schema\"), category=\"dataset_description\")"
   ],
   "metadata": {
    "collapsed": false,
    "pycharm": {
     "name": "#%%\n"
    }
   }
  },
  {
   "cell_type": "markdown",
   "source": [
    "## Save the default schema"
   ],
   "metadata": {
    "collapsed": false,
    "pycharm": {
     "name": "#%% md\n"
    }
   }
  },
  {
   "cell_type": "code",
   "execution_count": 17,
   "outputs": [],
   "source": [
    "default_schema = Schema.get_default_schema(version=\"1.2.3\", category=\"dataset_description\")\n",
    "schema = Schema()\n",
    "schema.set_schema(default_schema)\n",
    "schema.save(save_dir=save_dir.joinpath(\"schema\"), category=\"dataset_description\")"
   ],
   "metadata": {
    "collapsed": false,
    "pycharm": {
     "name": "#%%\n"
    }
   }
  },
  {
   "cell_type": "markdown",
   "source": [
    "# Extend metadata - adding a new field"
   ],
   "metadata": {
    "collapsed": false
   }
  },
  {
   "cell_type": "code",
   "execution_count": 18,
   "outputs": [],
   "source": [
    "category = \"dataset_description\"\n",
    "element = \"consent_code\"\n",
    "dataset.add_element(category=category, element=element)\n",
    "dataset.save(save_dir=save_dir.joinpath(\"template\"))\n",
    "# Update schema\n",
    "property = {\n",
    "    \"type\": \"string\",\n",
    "    \"required\": \"N\",\n",
    "    \"description\": \"Consent code\",\n",
    "    \"Example\": \"test\"\n",
    "}\n",
    "schema.add_property(property_name=element, property=property)\n",
    "schema.save(save_dir=save_dir.joinpath(\"schema\"), category=\"dataset_description\")"
   ],
   "metadata": {
    "collapsed": false,
    "pycharm": {
     "name": "#%%\n"
    }
   }
  }
 ],
 "metadata": {
  "kernelspec": {
   "display_name": "Python 3",
   "language": "python",
   "name": "python3"
  },
  "language_info": {
   "codemirror_mode": {
    "name": "ipython",
    "version": 2
   },
   "file_extension": ".py",
   "mimetype": "text/x-python",
   "name": "python",
   "nbconvert_exporter": "python",
   "pygments_lexer": "ipython2",
   "version": "2.7.6"
  }
 },
 "nbformat": 4,
 "nbformat_minor": 0
}