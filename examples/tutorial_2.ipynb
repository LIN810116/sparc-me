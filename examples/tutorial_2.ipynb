{
 "cells": [
  {
   "cell_type": "markdown",
   "metadata": {},
   "source": [
    "# Tutorial 2: Create SDS from existing data set\n",
    "\n",
    "The SPARC Dataset Structure (SDS) is a standardised method for organising files and metadata. In this tutorial existing data is loaded into a SDS file structure and the metadata is explored and edited. \n",
    "\n",
    "# Creating SDS folder structure "
   ]
  },
  {
   "cell_type": "code",
   "execution_count": null,
   "metadata": {},
   "outputs": [],
   "source": [
    "# Initialise a dataset object\n",
    "import sys\n",
    "[sys.path.append(i) for i in ['.', '..']]\n",
    "\n",
    "from sparc_me import Dataset\n",
    "\n",
    "dataset = Dataset()\n",
    "\n",
    "# Specify the SDS schema version to be created\n",
    "version = \"2.0.0\"\n",
    "dataset.load_from_template(version)\n",
    "\n",
    "# Specify location to generate SDS structure\n",
    "save_dir= \"./tmp/template/\"\n",
    "\n",
    "#Creates SDS folder structure\n",
    "\n",
    "dataset.set_dataset_path(save_dir)\n",
    "dataset.save(save_dir)"
   ]
  },
  {
   "cell_type": "markdown",
   "metadata": {},
   "source": [
    "## Transfering data into SDS structure\n",
    "\n",
    "Now that there is a destination for the data to be transdered, it is time to transfer your existing data. "
   ]
  },
  {
   "cell_type": "code",
   "execution_count": null,
   "metadata": {},
   "outputs": [],
   "source": [
    "# Add a copy of the data from the specified path into the SDS folder structure\n",
    "dataset.add_primary_data(\"./test_data/sample1/raw\", subject=\"subject-1\", sample=\"sample-1\", sds_parent_dir=save_dir, overwrite=True)\n",
    "dataset.add_primary_data(\"./test_data/sample2/raw\", subject=\"subject-2\", sample=\"sample-1\", sds_parent_dir=save_dir, overwrite=True)\n",
    "dataset.add_primary_data(\"./test_data/sample3/raw\", subject=\"subject-3\", sample=\"sample-1\", sds_parent_dir=save_dir, overwrite=True)\n",
    "\n",
    "dataset.add_derivative_data(\"./test_data/sample1/derived\", subject=\"subject-1\", sample=\"sample-1\", sds_parent_dir=save_dir, overwrite=True)\n",
    "dataset.add_derivative_data(\"./test_data/sample2/derived\", subject=\"subject-2\", sample=\"sample-1\", sds_parent_dir=save_dir, overwrite=True)\n",
    "dataset.add_derivative_data(\"./test_data/sample3/derived\", subject=\"subject-3\", sample=\"sample-1\", sds_parent_dir=save_dir, overwrite=True)\n",
    "\n"
   ]
  },
  {
   "cell_type": "markdown",
   "metadata": {},
   "source": [
    "# Editing the metadata\n",
    "Now we can explore some of the meta data that was automatically generated as we were transfering files"
   ]
  },
  {
   "cell_type": "code",
   "execution_count": null,
   "metadata": {},
   "outputs": [],
   "source": [
    "category = \"subjects\"\n",
    "metadata = dataset._dataset.get(category).get(\"metadata\")\n",
    "metadata\n",
    "\n"
   ]
  },
  {
   "cell_type": "markdown",
   "metadata": {},
   "source": [
    "In this example, we now wish to add age information for the subjects."
   ]
  },
  {
   "cell_type": "code",
   "execution_count": null,
   "metadata": {},
   "outputs": [],
   "source": [
    "# edit the age field of the listed subject\n",
    "category = \"subjects\"\n",
    "header = \"age\"\n",
    "value = \"42\"\n",
    "#df['Comedy_Score'].where(df['Rating_Score'] == subject)\n",
    "\n",
    "subject_1_index = int(metadata.index[metadata['subject id']=='subject-1'][0] + 2)\n",
    "subject_2_index = int(metadata.index[metadata['subject id']=='subject-2'][0] + 2)\n",
    "subject_3_index = int(metadata.index[metadata['subject id']=='subject-3'][0] + 2)\n",
    "\n",
    "\n",
    "dataset.set_field(category, subject_1_index, header, 42)\n",
    "dataset.set_field(category, subject_2_index, header, 25)\n",
    "dataset.set_field(category, subject_3_index, header, 27)\n",
    "\n",
    "\n",
    "# Save changes\n",
    "dataset.save(save_dir)\n",
    "\n",
    "# The result can now be seen \n",
    "metadata"
   ]
  },
  {
   "cell_type": "markdown",
   "metadata": {},
   "source": [
    "If the data meta data is incomplete for a given category, as below, then it is useful to be able to extract the rows that contain values."
   ]
  },
  {
   "cell_type": "code",
   "execution_count": null,
   "metadata": {},
   "outputs": [],
   "source": [
    "header = \"sex\"\n",
    "\n",
    "dataset.set_field(category, subject_1_index, header, \"female\")\n",
    "dataset.set_field(category, subject_2_index, header, \"male\")\n",
    "dataset.set_field(category, subject_3_index, header, \"female\")\n",
    "\n",
    "dataset.save(save_dir)\n"
   ]
  },
  {
   "cell_type": "markdown",
   "metadata": {},
   "source": [
    "# Filtering through the metadata to identify subjects\n",
    "We can use the metadata stored in the dataset to select subjects based on specific criteria "
   ]
  },
  {
   "cell_type": "code",
   "execution_count": null,
   "metadata": {},
   "outputs": [],
   "source": [
    "#select out the metadata for female subjects\n",
    "index = metadata['sex'] == 'female'\n",
    "metadata[['subject id','age','sex']][index]"
   ]
  },
  {
   "cell_type": "code",
   "execution_count": null,
   "metadata": {},
   "outputs": [],
   "source": [
    "#select out the metadata subjects younger than 28\n",
    "index = metadata['age'] <= 28\n",
    "metadata[['subject id','age','sex']][index]\n"
   ]
  }
 ],
 "metadata": {
  "kernelspec": {
   "display_name": "Python 3.9.5 64-bit",
   "language": "python",
   "name": "python3"
  },
  "language_info": {
   "codemirror_mode": {
    "name": "ipython",
    "version": 3
   },
   "file_extension": ".py",
   "mimetype": "text/x-python",
   "name": "python",
   "nbconvert_exporter": "python",
   "pygments_lexer": "ipython3",
   "version": "3.9.5"
  },
  "orig_nbformat": 4,
  "vscode": {
   "interpreter": {
    "hash": "a47e1e2c49c050a34b8a1fd5e73ef0ffb5353ba12db54c1637a8441d5d8b2e0f"
   }
  }
 },
 "nbformat": 4,
 "nbformat_minor": 2
}